{
  "nbformat": 4,
  "nbformat_minor": 0,
  "metadata": {
    "colab": {
      "name": "data_downloader.ipynb",
      "version": "0.3.2",
      "provenance": [],
      "collapsed_sections": [],
      "include_colab_link": true
    },
    "kernelspec": {
      "name": "python3",
      "display_name": "Python 3"
    },
    "accelerator": "GPU"
  },
  "cells": [
    {
      "cell_type": "markdown",
      "metadata": {
        "id": "view-in-github",
        "colab_type": "text"
      },
      "source": [
        "<a href=\"https://colab.research.google.com/github/Machine-Learning-Tokyo/Kaggle/blob/master/Earthquake_Prediction/data_downloader.ipynb\" target=\"_parent\"><img src=\"https://colab.research.google.com/assets/colab-badge.svg\" alt=\"Open In Colab\"/></a>"
      ]
    },
    {
      "metadata": {
        "id": "GAkHtbPNPDP5",
        "colab_type": "text"
      },
      "cell_type": "markdown",
      "source": [
        "## Code to download the data"
      ]
    },
    {
      "metadata": {
        "id": "uPoSZuZ3el-R",
        "colab_type": "code",
        "colab": {}
      },
      "cell_type": "code",
      "source": [
        "!pip install -U -q kaggle\n",
        "!mkdir -p .kaggle\n",
        "!mkdir -p ~/.kaggle"
      ],
      "execution_count": 0,
      "outputs": []
    },
    {
      "metadata": {
        "id": "xuoGSsaweozM",
        "colab_type": "code",
        "colab": {}
      },
      "cell_type": "code",
      "source": [
        "import json\n",
        "token = {\"username\":\"dkatsios\",\"key\":\"684d38a2e65bba3b1fcaecf462caae75\"}\n",
        "with open('/content/.kaggle/kaggle.json', 'w') as file:\n",
        "    json.dump(token, file)\n",
        "!cp /content/.kaggle/kaggle.json ~/.kaggle/kaggle.json"
      ],
      "execution_count": 0,
      "outputs": []
    },
    {
      "metadata": {
        "id": "IxFypRf7ewNw",
        "colab_type": "code",
        "colab": {}
      },
      "cell_type": "code",
      "source": [
        "%%capture\n",
        "!kaggle config set -n path -v{/content}\n",
        "!chmod 600 /root/.kaggle/kaggle.json"
      ],
      "execution_count": 0,
      "outputs": []
    },
    {
      "metadata": {
        "id": "vlopVEkFJ76e",
        "colab_type": "code",
        "colab": {}
      },
      "cell_type": "code",
      "source": [
        "!kaggle competitions download -c LANL-Earthquake-Prediction -p /content"
      ],
      "execution_count": 0,
      "outputs": []
    },
    {
      "metadata": {
        "id": "GBevEyQqMr9_",
        "colab_type": "code",
        "colab": {
          "base_uri": "https://localhost:8080/",
          "height": 34
        },
        "outputId": "d25f9be8-155f-41bd-bd49-c36f1cae3f06"
      },
      "cell_type": "code",
      "source": [
        "!ls /content/"
      ],
      "execution_count": 12,
      "outputs": [
        {
          "output_type": "stream",
          "text": [
            "sample_data  sample_submission.csv  test  train.csv\n"
          ],
          "name": "stdout"
        }
      ]
    },
    {
      "metadata": {
        "id": "2zBArOfcKg6k",
        "colab_type": "code",
        "colab": {}
      },
      "cell_type": "code",
      "source": [
        "!unzip train.csv.zip && rm train.csv.zip\n",
        "!unzip test.zip -d test && rm test.zip"
      ],
      "execution_count": 0,
      "outputs": []
    },
    {
      "metadata": {
        "id": "QXcFBqQOO8qB",
        "colab_type": "text"
      },
      "cell_type": "markdown",
      "source": [
        "## Code after downloading the data"
      ]
    },
    {
      "metadata": {
        "id": "MMDN_0oBPLT6",
        "colab_type": "code",
        "colab": {}
      },
      "cell_type": "code",
      "source": [
        "import csv\n",
        "import numpy as np"
      ],
      "execution_count": 0,
      "outputs": []
    },
    {
      "metadata": {
        "id": "_rOA2ov5PPPH",
        "colab_type": "code",
        "colab": {}
      },
      "cell_type": "code",
      "source": [
        "train_csv_path = 'train.csv'\n",
        "batch_size = 32"
      ],
      "execution_count": 0,
      "outputs": []
    },
    {
      "metadata": {
        "id": "Q63EIOCJLbAE",
        "colab_type": "code",
        "colab": {}
      },
      "cell_type": "code",
      "source": [
        "class CSVReader:\n",
        "  def __init__(self, csv_path, batch_size):\n",
        "    csvfile = open(csv_path, \"r\")\n",
        "    self.datareader = csv.reader(csvfile)\n",
        "    next(self.datareader)\n",
        "    \n",
        "  def __iter__(self):\n",
        "    return self\n",
        "  \n",
        "  def __next__(self):\n",
        "    vs, ts = np.zeros((batch_size,)), np.zeros((batch_size,))\n",
        "    for i in range(batch_size):\n",
        "      vs[i], ts[i] = map(float, next(self.datareader))\n",
        "    return vs, ts"
      ],
      "execution_count": 0,
      "outputs": []
    },
    {
      "metadata": {
        "id": "yk7vcnxJNEEd",
        "colab_type": "code",
        "colab": {}
      },
      "cell_type": "code",
      "source": [
        "csv_reader = CSVReader(train_csv_path, batch_size)"
      ],
      "execution_count": 0,
      "outputs": []
    },
    {
      "metadata": {
        "id": "diZ8gQ-wNLYe",
        "colab_type": "code",
        "colab": {
          "base_uri": "https://localhost:8080/",
          "height": 187
        },
        "outputId": "9893e21b-8dd1-42fb-bec2-e6a2a57553bd"
      },
      "cell_type": "code",
      "source": [
        "vs, ts = next(csv_reader)\n",
        "(vs, ts)"
      ],
      "execution_count": 72,
      "outputs": [
        {
          "output_type": "execute_result",
          "data": {
            "text/plain": [
              "(array([12.,  6.,  8.,  5.,  8.,  8.,  9.,  7., -5.,  3.,  5.,  2.,  2.,\n",
              "         3., -1.,  5.,  6.,  4.,  3.,  5.,  4.,  2.,  6.,  7.,  7.,  8.,\n",
              "        14.,  9.,  4.,  7.,  4.,  3.]),\n",
              " array([1.46909998, 1.46909998, 1.46909998, 1.46909998, 1.46909998,\n",
              "        1.46909998, 1.46909998, 1.46909998, 1.46909997, 1.46909997,\n",
              "        1.46909997, 1.46909997, 1.46909997, 1.46909997, 1.46909997,\n",
              "        1.46909997, 1.46909997, 1.46909996, 1.46909996, 1.46909996,\n",
              "        1.46909996, 1.46909996, 1.46909996, 1.46909996, 1.46909996,\n",
              "        1.46909996, 1.46909995, 1.46909995, 1.46909995, 1.46909995,\n",
              "        1.46909995, 1.46909995]))"
            ]
          },
          "metadata": {
            "tags": []
          },
          "execution_count": 72
        }
      ]
    },
    {
      "metadata": {
        "id": "dBFEHJ-0LKUS",
        "colab_type": "code",
        "colab": {}
      },
      "cell_type": "code",
      "source": [
        ""
      ],
      "execution_count": 0,
      "outputs": []
    }
  ]
}